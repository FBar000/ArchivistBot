{
 "cells": [
  {
   "cell_type": "markdown",
   "metadata": {},
   "source": [
    "## Process Image"
   ]
  },
  {
   "cell_type": "markdown",
   "metadata": {},
   "source": [
    "### Make Entries"
   ]
  },
  {
   "cell_type": "code",
   "execution_count": 1,
   "metadata": {},
   "outputs": [],
   "source": [
    "user_msg = \"\"\"\n",
    "This is an envelope for a letter sent to a student. Dates c. June 2023. Dimensions are about 24 x 10.5 cm.\n",
    "\"\"\""
   ]
  },
  {
   "cell_type": "code",
   "execution_count": 2,
   "metadata": {},
   "outputs": [
    {
     "ename": "ModuleNotFoundError",
     "evalue": "No module named 'Archivist.archiveGPT.API_key'",
     "output_type": "error",
     "traceback": [
      "\u001b[1;31m---------------------------------------------------------------------------\u001b[0m",
      "\u001b[1;31mModuleNotFoundError\u001b[0m                       Traceback (most recent call last)",
      "Cell \u001b[1;32mIn[2], line 1\u001b[0m\n\u001b[1;32m----> 1\u001b[0m \u001b[38;5;28;01mfrom\u001b[39;00m \u001b[38;5;21;01mArchivist\u001b[39;00m\u001b[38;5;21;01m.\u001b[39;00m\u001b[38;5;21;01marchiveGPT\u001b[39;00m\u001b[38;5;21;01m.\u001b[39;00m\u001b[38;5;21;01marchivist\u001b[39;00m \u001b[38;5;28;01mimport\u001b[39;00m \u001b[38;5;241m*\u001b[39m\n\u001b[0;32m      2\u001b[0m path \u001b[38;5;241m=\u001b[39m createEntryDraft(user_msg\u001b[38;5;241m=\u001b[39muser_msg)\n",
      "File \u001b[1;32mc:\\Users\\Federico Barrera\\Desktop\\Programming -- Local Clone Site\\ArchivistBot\\src\\Archivist\\archiveGPT\\archivist.py:2\u001b[0m\n\u001b[0;32m      1\u001b[0m \u001b[38;5;28;01mimport\u001b[39;00m \u001b[38;5;21;01mos\u001b[39;00m\n\u001b[1;32m----> 2\u001b[0m \u001b[38;5;28;01mfrom\u001b[39;00m \u001b[38;5;21;01m.\u001b[39;00m\u001b[38;5;21;01mutils\u001b[39;00m \u001b[38;5;28;01mimport\u001b[39;00m \u001b[38;5;241m*\u001b[39m \n\u001b[0;32m      6\u001b[0m \u001b[38;5;28;01mdef\u001b[39;00m \u001b[38;5;21mcreateEntryDraft\u001b[39m(user_msg:\u001b[38;5;28mstr\u001b[39m\u001b[38;5;241m=\u001b[39m\u001b[38;5;124m\"\u001b[39m\u001b[38;5;124mMake an entry.\u001b[39m\u001b[38;5;124m\"\u001b[39m, GPT_primer:\u001b[38;5;28mstr\u001b[39m\u001b[38;5;241m=\u001b[39m\u001b[38;5;28;01mNone\u001b[39;00m) \u001b[38;5;241m-\u001b[39m\u001b[38;5;241m>\u001b[39m \u001b[38;5;28mstr\u001b[39m:\n\u001b[0;32m      7\u001b[0m     entry \u001b[38;5;241m=\u001b[39m mkEntry(user_msg, GPT_primer)\n",
      "File \u001b[1;32mc:\\Users\\Federico Barrera\\Desktop\\Programming -- Local Clone Site\\ArchivistBot\\src\\Archivist\\archiveGPT\\utils.py:8\u001b[0m\n\u001b[0;32m      6\u001b[0m \u001b[38;5;28;01mfrom\u001b[39;00m \u001b[38;5;21;01mopenai\u001b[39;00m \u001b[38;5;28;01mimport\u001b[39;00m OpenAI\n\u001b[0;32m      7\u001b[0m \u001b[38;5;28;01mfrom\u001b[39;00m \u001b[38;5;21;01m.\u001b[39;00m\u001b[38;5;21;01mconfig\u001b[39;00m \u001b[38;5;28;01mimport\u001b[39;00m \u001b[38;5;241m*\u001b[39m\n\u001b[1;32m----> 8\u001b[0m \u001b[38;5;28;01mfrom\u001b[39;00m \u001b[38;5;21;01m.\u001b[39;00m\u001b[38;5;21;01mAPI_key\u001b[39;00m \u001b[38;5;28;01mimport\u001b[39;00m \u001b[38;5;241m*\u001b[39m\n\u001b[0;32m     11\u001b[0m \u001b[38;5;28;01mdef\u001b[39;00m \u001b[38;5;21mgetPrimer\u001b[39m(priming_folder: \u001b[38;5;28mstr\u001b[39m \u001b[38;5;241m=\u001b[39m \u001b[38;5;28;01mNone\u001b[39;00m) \u001b[38;5;241m-\u001b[39m\u001b[38;5;241m>\u001b[39m \u001b[38;5;28mlist\u001b[39m:\n\u001b[0;32m     12\u001b[0m     src \u001b[38;5;241m=\u001b[39m PRIMING_INSTRUCTION_PATH \u001b[38;5;28;01mif\u001b[39;00m priming_folder \u001b[38;5;241m==\u001b[39m \u001b[38;5;28;01mNone\u001b[39;00m \u001b[38;5;28;01melse\u001b[39;00m priming_folder\n",
      "\u001b[1;31mModuleNotFoundError\u001b[0m: No module named 'Archivist.archiveGPT.API_key'"
     ]
    }
   ],
   "source": [
    "from Archivist.archiveGPT.archivist import *\n",
    "path = createEntryDraft(user_msg=user_msg)"
   ]
  },
  {
   "cell_type": "code",
   "execution_count": 8,
   "metadata": {},
   "outputs": [
    {
     "ename": "FileNotFoundError",
     "evalue": "[WinError 3] The system cannot find the path specified: 'ArchivistBot\\\\src\\\\Archivist\\\\archiveGPT\\\\Instructions'",
     "output_type": "error",
     "traceback": [
      "\u001b[1;31m---------------------------------------------------------------------------\u001b[0m",
      "\u001b[1;31mFileNotFoundError\u001b[0m                         Traceback (most recent call last)",
      "Cell \u001b[1;32mIn[8], line 3\u001b[0m\n\u001b[0;32m      1\u001b[0m src \u001b[38;5;241m=\u001b[39m \u001b[38;5;124mr\u001b[39m\u001b[38;5;124m'\u001b[39m\u001b[38;5;124mArchivistBot\u001b[39m\u001b[38;5;124m\\\u001b[39m\u001b[38;5;124msrc\u001b[39m\u001b[38;5;124m\\\u001b[39m\u001b[38;5;124mArchivist\u001b[39m\u001b[38;5;124m\\\u001b[39m\u001b[38;5;124marchiveGPT\u001b[39m\u001b[38;5;124m\\\u001b[39m\u001b[38;5;124mInstructions\u001b[39m\u001b[38;5;124m'\u001b[39m\n\u001b[1;32m----> 3\u001b[0m \u001b[38;5;28;01mfor\u001b[39;00m filename \u001b[38;5;129;01min\u001b[39;00m \u001b[43mos\u001b[49m\u001b[38;5;241;43m.\u001b[39;49m\u001b[43mlistdir\u001b[49m\u001b[43m(\u001b[49m\u001b[43msrc\u001b[49m\u001b[43m)\u001b[49m:\n\u001b[0;32m      4\u001b[0m     file_path \u001b[38;5;241m=\u001b[39m os\u001b[38;5;241m.\u001b[39mpath\u001b[38;5;241m.\u001b[39mjoin(src, filename)\n\u001b[0;32m      5\u001b[0m     \u001b[38;5;28mprint\u001b[39m(file_path)\n",
      "\u001b[1;31mFileNotFoundError\u001b[0m: [WinError 3] The system cannot find the path specified: 'ArchivistBot\\\\src\\\\Archivist\\\\archiveGPT\\\\Instructions'"
     ]
    }
   ],
   "source": [
    "src = r'ArchivistBot\\src\\Archivist\\archiveGPT\\Instructions'\n",
    "\n",
    "for filename in os.listdir(src):\n",
    "    file_path = os.path.join(src, filename)\n",
    "    print(file_path)"
   ]
  },
  {
   "cell_type": "markdown",
   "metadata": {},
   "source": [
    "### Cleanup: Create JSONS, Archive Inputs & Outputs"
   ]
  },
  {
   "cell_type": "code",
   "execution_count": null,
   "metadata": {},
   "outputs": [],
   "source": [
    "from Archivist.archiveGPT.archivist import *\n",
    "import Archivist.archiveGPT.clean as clean\n",
    "\n",
    "saveEntryDraft(path)\n",
    "print(\"-\"*50)\n",
    "clean.archive_inputs()\n",
    "clean.archive_outputs()"
   ]
  },
  {
   "cell_type": "markdown",
   "metadata": {},
   "source": [
    "## Upload to CTCo"
   ]
  },
  {
   "cell_type": "code",
   "execution_count": null,
   "metadata": {},
   "outputs": [],
   "source": [
    "## TODO: THIS WHOLE PROCESS SHOULD EVENTUALLY BE IN AN IMPORTED FUNCTION\n",
    "\n",
    "import os\n",
    "import Archivist.archiveGPT.config as acfg\n",
    "\n",
    "files = os.listdir(acfg.JSON_OUTPUT)\n",
    "paths = [os.path.join(acfg.JSON_OUTPUT, file) for file in files]"
   ]
  },
  {
   "cell_type": "code",
   "execution_count": null,
   "metadata": {},
   "outputs": [],
   "source": [
    "import Uploader.bots.CTCoSession as bot \n",
    "from Uploader.bots.utils import DocumentObject\n",
    "\n",
    "with bot.CTCoSession() as bot1:\n",
    "    for path in paths:\n",
    "        document = DocumentObject(path).getDoc()\n",
    "        bot1.create_object(document)"
   ]
  },
  {
   "cell_type": "markdown",
   "metadata": {},
   "source": [
    "## Archive JSONS"
   ]
  },
  {
   "cell_type": "code",
   "execution_count": null,
   "metadata": {},
   "outputs": [],
   "source": [
    "import Archivist.archiveGPT.clean as clean\n",
    "\n",
    "clean.archive_jsons()"
   ]
  }
 ],
 "metadata": {
  "kernelspec": {
   "display_name": ".venv",
   "language": "python",
   "name": "python3"
  },
  "language_info": {
   "codemirror_mode": {
    "name": "ipython",
    "version": 3
   },
   "file_extension": ".py",
   "mimetype": "text/x-python",
   "name": "python",
   "nbconvert_exporter": "python",
   "pygments_lexer": "ipython3",
   "version": "3.11.9"
  }
 },
 "nbformat": 4,
 "nbformat_minor": 2
}
