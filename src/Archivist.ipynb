{
 "cells": [
  {
   "cell_type": "markdown",
   "metadata": {},
   "source": [
    "## Process Image"
   ]
  },
  {
   "cell_type": "markdown",
   "metadata": {},
   "source": [
    "### Make Entries"
   ]
  },
  {
   "cell_type": "code",
   "execution_count": 1,
   "metadata": {},
   "outputs": [],
   "source": [
    "user_msg = \"\"\"\n",
    "This is an envelope for a letter sent to a student. Dates c. June 2023. Dimensions are about 24 x 10.5 cm.\n",
    "\"\"\""
   ]
  },
  {
   "cell_type": "code",
   "execution_count": 2,
   "metadata": {},
   "outputs": [
    {
     "ename": "FileNotFoundError",
     "evalue": "[WinError 3] The system cannot find the path specified: 'ArchivistBot\\\\src\\\\Archivist\\\\archiveGPT\\\\Instructions'",
     "output_type": "error",
     "traceback": [
      "\u001b[1;31m---------------------------------------------------------------------------\u001b[0m",
      "\u001b[1;31mFileNotFoundError\u001b[0m                         Traceback (most recent call last)",
      "Cell \u001b[1;32mIn[2], line 2\u001b[0m\n\u001b[0;32m      1\u001b[0m \u001b[38;5;28;01mfrom\u001b[39;00m \u001b[38;5;21;01mArchivist\u001b[39;00m\u001b[38;5;21;01m.\u001b[39;00m\u001b[38;5;21;01marchiveGPT\u001b[39;00m\u001b[38;5;21;01m.\u001b[39;00m\u001b[38;5;21;01marchivist\u001b[39;00m \u001b[38;5;28;01mimport\u001b[39;00m \u001b[38;5;241m*\u001b[39m\n\u001b[1;32m----> 2\u001b[0m path \u001b[38;5;241m=\u001b[39m \u001b[43mcreateEntryDraft\u001b[49m\u001b[43m(\u001b[49m\u001b[43muser_msg\u001b[49m\u001b[38;5;241;43m=\u001b[39;49m\u001b[43muser_msg\u001b[49m\u001b[43m)\u001b[49m\n",
      "File \u001b[1;32mc:\\Users\\Federico\\Desktop\\tmp\\ArchivistBot\\src\\Archivist\\archiveGPT\\archivist.py:7\u001b[0m, in \u001b[0;36mcreateEntryDraft\u001b[1;34m(user_msg, GPT_primer)\u001b[0m\n\u001b[0;32m      6\u001b[0m \u001b[38;5;28;01mdef\u001b[39;00m \u001b[38;5;21mcreateEntryDraft\u001b[39m(user_msg:\u001b[38;5;28mstr\u001b[39m\u001b[38;5;241m=\u001b[39m\u001b[38;5;124m\"\u001b[39m\u001b[38;5;124mMake an entry.\u001b[39m\u001b[38;5;124m\"\u001b[39m, GPT_primer:\u001b[38;5;28mstr\u001b[39m\u001b[38;5;241m=\u001b[39m\u001b[38;5;28;01mNone\u001b[39;00m) \u001b[38;5;241m-\u001b[39m\u001b[38;5;241m>\u001b[39m \u001b[38;5;28mstr\u001b[39m:\n\u001b[1;32m----> 7\u001b[0m     entry \u001b[38;5;241m=\u001b[39m \u001b[43mmkEntry\u001b[49m\u001b[43m(\u001b[49m\u001b[43muser_msg\u001b[49m\u001b[43m,\u001b[49m\u001b[43m \u001b[49m\u001b[43mGPT_primer\u001b[49m\u001b[43m)\u001b[49m\n\u001b[0;32m      8\u001b[0m     \u001b[38;5;28;01mreturn\u001b[39;00m toFile(entry)\n",
      "File \u001b[1;32mc:\\Users\\Federico\\Desktop\\tmp\\ArchivistBot\\src\\Archivist\\archiveGPT\\archivist.py:52\u001b[0m, in \u001b[0;36mmkEntry\u001b[1;34m(user_msg, GPT_primer, mode)\u001b[0m\n\u001b[0;32m     50\u001b[0m     \u001b[38;5;28;01mraise\u001b[39;00m \u001b[38;5;167;01mTypeError\u001b[39;00m(\u001b[38;5;124m\"\u001b[39m\u001b[38;5;124mFunction expects mode in [\u001b[39m\u001b[38;5;124m'\u001b[39m\u001b[38;5;124mjson\u001b[39m\u001b[38;5;124m'\u001b[39m\u001b[38;5;124m, \u001b[39m\u001b[38;5;124m'\u001b[39m\u001b[38;5;124mdev\u001b[39m\u001b[38;5;124m'\u001b[39m\u001b[38;5;124m]\u001b[39m\u001b[38;5;124m\"\u001b[39m)\n\u001b[0;32m     51\u001b[0m \u001b[38;5;28;01mif\u001b[39;00m GPT_primer \u001b[38;5;241m==\u001b[39m \u001b[38;5;28;01mNone\u001b[39;00m:\n\u001b[1;32m---> 52\u001b[0m     GPT_primer \u001b[38;5;241m=\u001b[39m \u001b[43mgetPrimer\u001b[49m\u001b[43m(\u001b[49m\u001b[43m)\u001b[49m\n\u001b[0;32m     53\u001b[0m encoded_imgs \u001b[38;5;241m=\u001b[39m getPhotos()\n\u001b[0;32m     54\u001b[0m msg \u001b[38;5;241m=\u001b[39m mkMessage(encoded_imgs, user_msg, GPT_primer)\n",
      "File \u001b[1;32mc:\\Users\\Federico\\Desktop\\tmp\\ArchivistBot\\src\\Archivist\\archiveGPT\\utils.py:14\u001b[0m, in \u001b[0;36mgetPrimer\u001b[1;34m(priming_folder)\u001b[0m\n\u001b[0;32m     12\u001b[0m src \u001b[38;5;241m=\u001b[39m PRIMING_INSTRUCTION_PATH \u001b[38;5;28;01mif\u001b[39;00m priming_folder \u001b[38;5;241m==\u001b[39m \u001b[38;5;28;01mNone\u001b[39;00m \u001b[38;5;28;01melse\u001b[39;00m priming_folder\n\u001b[0;32m     13\u001b[0m res \u001b[38;5;241m=\u001b[39m \u001b[38;5;124m\"\u001b[39m\u001b[38;5;124m\"\u001b[39m\n\u001b[1;32m---> 14\u001b[0m \u001b[38;5;28;01mfor\u001b[39;00m filename \u001b[38;5;129;01min\u001b[39;00m \u001b[43mos\u001b[49m\u001b[38;5;241;43m.\u001b[39;49m\u001b[43mlistdir\u001b[49m\u001b[43m(\u001b[49m\u001b[43msrc\u001b[49m\u001b[43m)\u001b[49m:\n\u001b[0;32m     15\u001b[0m     file_path \u001b[38;5;241m=\u001b[39m os\u001b[38;5;241m.\u001b[39mpath\u001b[38;5;241m.\u001b[39mjoin(src, filename)\n\u001b[0;32m     16\u001b[0m     \u001b[38;5;28;01mif\u001b[39;00m os\u001b[38;5;241m.\u001b[39mpath\u001b[38;5;241m.\u001b[39misfile(file_path) \u001b[38;5;129;01mand\u001b[39;00m filename\u001b[38;5;241m.\u001b[39mendswith(\u001b[38;5;124m'\u001b[39m\u001b[38;5;124m.txt\u001b[39m\u001b[38;5;124m'\u001b[39m):\n",
      "\u001b[1;31mFileNotFoundError\u001b[0m: [WinError 3] The system cannot find the path specified: 'ArchivistBot\\\\src\\\\Archivist\\\\archiveGPT\\\\Instructions'"
     ]
    }
   ],
   "source": [
    "from Archivist.archiveGPT.archivist import *\n",
    "path = createEntryDraft(user_msg=user_msg)"
   ]
  },
  {
   "cell_type": "code",
   "execution_count": 8,
   "metadata": {},
   "outputs": [
    {
     "ename": "FileNotFoundError",
     "evalue": "[WinError 3] The system cannot find the path specified: 'ArchivistBot\\\\src\\\\Archivist\\\\archiveGPT\\\\Instructions'",
     "output_type": "error",
     "traceback": [
      "\u001b[1;31m---------------------------------------------------------------------------\u001b[0m",
      "\u001b[1;31mFileNotFoundError\u001b[0m                         Traceback (most recent call last)",
      "Cell \u001b[1;32mIn[8], line 3\u001b[0m\n\u001b[0;32m      1\u001b[0m src \u001b[38;5;241m=\u001b[39m \u001b[38;5;124mr\u001b[39m\u001b[38;5;124m'\u001b[39m\u001b[38;5;124mArchivistBot\u001b[39m\u001b[38;5;124m\\\u001b[39m\u001b[38;5;124msrc\u001b[39m\u001b[38;5;124m\\\u001b[39m\u001b[38;5;124mArchivist\u001b[39m\u001b[38;5;124m\\\u001b[39m\u001b[38;5;124marchiveGPT\u001b[39m\u001b[38;5;124m\\\u001b[39m\u001b[38;5;124mInstructions\u001b[39m\u001b[38;5;124m'\u001b[39m\n\u001b[1;32m----> 3\u001b[0m \u001b[38;5;28;01mfor\u001b[39;00m filename \u001b[38;5;129;01min\u001b[39;00m \u001b[43mos\u001b[49m\u001b[38;5;241;43m.\u001b[39;49m\u001b[43mlistdir\u001b[49m\u001b[43m(\u001b[49m\u001b[43msrc\u001b[49m\u001b[43m)\u001b[49m:\n\u001b[0;32m      4\u001b[0m     file_path \u001b[38;5;241m=\u001b[39m os\u001b[38;5;241m.\u001b[39mpath\u001b[38;5;241m.\u001b[39mjoin(src, filename)\n\u001b[0;32m      5\u001b[0m     \u001b[38;5;28mprint\u001b[39m(file_path)\n",
      "\u001b[1;31mFileNotFoundError\u001b[0m: [WinError 3] The system cannot find the path specified: 'ArchivistBot\\\\src\\\\Archivist\\\\archiveGPT\\\\Instructions'"
     ]
    }
   ],
   "source": [
    "src = r'ArchivistBot\\src\\Archivist\\archiveGPT\\Instructions'\n",
    "\n",
    "for filename in os.listdir(src):\n",
    "    file_path = os.path.join(src, filename)\n",
    "    print(file_path)"
   ]
  },
  {
   "cell_type": "markdown",
   "metadata": {},
   "source": [
    "### Cleanup: Create JSONS, Archive Inputs & Outputs"
   ]
  },
  {
   "cell_type": "code",
   "execution_count": null,
   "metadata": {},
   "outputs": [],
   "source": [
    "from Archivist.archiveGPT.archivist import *\n",
    "import Archivist.archiveGPT.clean as clean\n",
    "\n",
    "saveEntryDraft(path)\n",
    "print(\"-\"*50)\n",
    "clean.archive_inputs()\n",
    "clean.archive_outputs()"
   ]
  },
  {
   "cell_type": "markdown",
   "metadata": {},
   "source": [
    "## Upload to CTCo"
   ]
  },
  {
   "cell_type": "code",
   "execution_count": null,
   "metadata": {},
   "outputs": [],
   "source": [
    "## TODO: THIS WHOLE PROCESS SHOULD EVENTUALLY BE IN AN IMPORTED FUNCTION\n",
    "\n",
    "import os\n",
    "import Archivist.archiveGPT.config as acfg\n",
    "\n",
    "files = os.listdir(acfg.JSON_OUTPUT)\n",
    "paths = [os.path.join(acfg.JSON_OUTPUT, file) for file in files]"
   ]
  },
  {
   "cell_type": "code",
   "execution_count": null,
   "metadata": {},
   "outputs": [],
   "source": [
    "import Uploader.bots.CTCoSession as bot \n",
    "from Uploader.bots.utils import DocumentObject\n",
    "\n",
    "with bot.CTCoSession() as bot1:\n",
    "    for path in paths:\n",
    "        document = DocumentObject(path).getDoc()\n",
    "        bot1.create_object(document)"
   ]
  },
  {
   "cell_type": "markdown",
   "metadata": {},
   "source": [
    "## Archive JSONS"
   ]
  },
  {
   "cell_type": "code",
   "execution_count": null,
   "metadata": {},
   "outputs": [],
   "source": [
    "import Archivist.archiveGPT.clean as clean\n",
    "\n",
    "clean.archive_jsons()"
   ]
  }
 ],
 "metadata": {
  "kernelspec": {
   "display_name": "ArchivistGPT",
   "language": "python",
   "name": "archivistgpt"
  },
  "language_info": {
   "codemirror_mode": {
    "name": "ipython",
    "version": 3
   },
   "file_extension": ".py",
   "mimetype": "text/x-python",
   "name": "python",
   "nbconvert_exporter": "python",
   "pygments_lexer": "ipython3",
   "version": "3.10.6"
  }
 },
 "nbformat": 4,
 "nbformat_minor": 2
}
