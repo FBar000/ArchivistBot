{
 "cells": [
  {
   "cell_type": "markdown",
   "metadata": {},
   "source": [
    "# PREREQ\n",
    "\n",
    "To import this notebook to another, it must have a CTCoSession initialized as test_session"
   ]
  },
  {
   "cell_type": "code",
   "execution_count": 4,
   "metadata": {},
   "outputs": [],
   "source": [
    "from bots.CTCoSession import CTCoSession\n",
    "\n",
    "test_session = CTCoSession()"
   ]
  },
  {
   "cell_type": "markdown",
   "metadata": {},
   "source": [
    "## Execute Batch Edit"
   ]
  },
  {
   "cell_type": "code",
   "execution_count": null,
   "metadata": {},
   "outputs": [],
   "source": [
    "def execute_batch_edit():\n",
    "\n",
    "    PATH_BATCH_EDIT = '//*[@aria-label=\"Execute batch edit\"]'\n",
    "    ele = test_session._CTCoSession__wait_until(PATH_BATCH_EDIT)\n",
    "    test_session.execute_script(\"arguments[0].click();\", ele)\n",
    "\n",
    "    PATH_BATCH_EDIT = '//*[@id=\"caConfirmBatchExecutionFormExecuteButton\"]'\n",
    "    ele = test_session._CTCoSession__wait_until(PATH_BATCH_EDIT)\n",
    "    test_session.execute_script(\"arguments[0].click();\", ele)"
   ]
  },
  {
   "cell_type": "markdown",
   "metadata": {},
   "source": [
    "## Create Set"
   ]
  },
  {
   "cell_type": "code",
   "execution_count": 2,
   "metadata": {},
   "outputs": [],
   "source": [
    "import bots.configs as cfg\n",
    "\n",
    "# Assumes search is set to searching by \"Obj Identifier\" + \"Begins with\"\n",
    "\n",
    "## Tell it what to search\n",
    "import time\n",
    "\n",
    "def create_set(target_handle:str):\n",
    "\n",
    "    # Go to search builder on CTCo\n",
    "    test_session.get(cfg.URLS[\"SEARCH_BUILDER\"])\n",
    "\n",
    "    target = target_handle\n",
    "    PATH_search_field_idno_start = '//*[@id=\"searchBuilder_rule_0\"]/div[5]/input'\n",
    "    test_session.input_values(PATH_search_field_idno_start, target)\n",
    "\n",
    "\n",
    "    ## Submit\n",
    "    PATH_search = r'//*[@aria-label=\"Search\"]'\n",
    "    test_session._CTCoSession__wait_until(PATH_search).click()\n",
    "\n",
    "    time.sleep(0.5)\n",
    "\n",
    "    # Drop down set menu on LHS\n",
    "    PATH_set_tools = r'//*[@id=\"searchSetToolsShow\"]'\n",
    "    test_session._CTCoSession__wait_until(PATH_set_tools).click()\n",
    "\n",
    "    time.sleep(0.5)\n",
    "\n",
    "\n",
    "\n",
    "    PATH_open_for_editing = r'//*[@id=\"caCreateSetBatchEdit\"]'\n",
    "    test_session._CTCoSession__wait_until(PATH_open_for_editing).click()\n",
    "\n",
    "    time.sleep(0.5)\n",
    "\n",
    "    PATH_create_set = r'//*[@id=\"caCreateSetFromResults\"]/a'\n",
    "    test_session._CTCoSession__wait_until(PATH_create_set).click()\n",
    "\n",
    "\n",
    "    PATH_set_objects = '//*[@id=\"caColorbox\"]/a'\n",
    "    test_session._CTCoSession__wait_until(PATH_set_objects).click()"
   ]
  },
  {
   "cell_type": "code",
   "execution_count": 29,
   "metadata": {},
   "outputs": [],
   "source": [
    "def return_to_batch_edits():\n",
    "    PATH_open_for_editing = r'//*[@title=\"Batch edit\"]'\n",
    "    test_session._CTCoSession__wait_until(PATH_open_for_editing).click()\n"
   ]
  },
  {
   "cell_type": "markdown",
   "metadata": {},
   "source": [
    "## Set Location"
   ]
  },
  {
   "cell_type": "code",
   "execution_count": 31,
   "metadata": {},
   "outputs": [],
   "source": [
    "import time\n",
    "from selenium.webdriver.support.ui import Select\n",
    "\n",
    "\n",
    "def set_location():\n",
    "    PATH_location = r'//*[@id=\"nav_screen_51\"]'\n",
    "    test_session._CTCoSession__wait_until(PATH_location).click()\n",
    "\n",
    "    PATH_ca_storage_locations = r'//*[@id=\"P797caBatchEditorForm89_rel_batch_mode_select\"]'\n",
    "    select = Select(test_session._CTCoSession__wait_until(PATH_ca_storage_locations))\n",
    "    select.select_by_visible_text(\"add to each\")\n",
    "\n",
    "    time.sleep(0.5)\n",
    "\n",
    "\n",
    "    PATH_search_location = r'//*[@id=\"P797caBatchEditorForm_hierarchyBrowserSearchnew_0\"]'\n",
    "    storage_location = 'Draw 3'\n",
    "    test_session.input_values(PATH_search_location, storage_location)\n",
    "\n",
    "\n",
    "    PATH_storage_location = r'//*[contains(text(), \"Draw 3\") and contains(text(), \"Lateral File 1\") and contains(text(), \"Lee Academy\")]'\n",
    "    test_session._CTCoSession__wait_until(PATH_storage_location).click()\n",
    "\n",
    "    set_location_status()\n"
   ]
  },
  {
   "cell_type": "code",
   "execution_count": 8,
   "metadata": {},
   "outputs": [],
   "source": [
    "# Janky fix\n",
    "\n",
    "def set_location_status_clicker():\n",
    "    PATH_storage_status = r'//*[@id=\"P797caBatchEditorForm_type_idnew_0\"]'\n",
    "    test_session._CTCoSession__wait_until(PATH_storage_status).click()\n",
    "    PATH_storage_status_option = r'(//*[contains(text(), \"is permanently located at\")])[2]' \n",
    "    test_session._CTCoSession__wait_until(PATH_storage_status_option).click()\n",
    "\n",
    "def set_location_status():\n",
    "    # Possibly infinite looping\n",
    "    try:set_location_status_clicker()\n",
    "    except:set_location_status()\n"
   ]
  },
  {
   "cell_type": "markdown",
   "metadata": {},
   "source": [
    "## Setting Admin info"
   ]
  },
  {
   "cell_type": "code",
   "execution_count": 34,
   "metadata": {},
   "outputs": [],
   "source": [
    "import time\n",
    "from selenium.webdriver.support.ui import Select\n",
    "\n",
    "def set_obj_status():\n",
    "    PATH_location = r'//*[@id=\"nav_screen_52\"]'\n",
    "    test_session._CTCoSession__wait_until(PATH_location).click()\n",
    "\n",
    "    PATH_ca_obj_status = r'//*[@id=\"P801caBatchEditorForm_attribute_162_batch_mode_select\"]'\n",
    "    test_session._CTCoSession__wait_until(PATH_ca_obj_status).click()\n",
    "    PATH_storage_status_option = r'(//*[contains(text(), \"add to each item\")])[2]' \n",
    "    test_session._CTCoSession__wait_until(PATH_storage_status_option).click()\n",
    "\n",
    "    mk_status_accessioned()\n",
    "    \n",
    "    set_public_access()"
   ]
  },
  {
   "cell_type": "code",
   "execution_count": 35,
   "metadata": {},
   "outputs": [],
   "source": [
    "\n",
    "def click_accessioned():\n",
    "    PATH_status_accessioned = r'//*[@id=\"P801caBatchEditorForm_attribute_162_162_new_0\"]'\n",
    "    test_session._CTCoSession__wait_until(PATH_status_accessioned).click()\n",
    "\n",
    "def mk_status_accessioned():\n",
    "    try: click_accessioned()\n",
    "    except: click_accessioned()"
   ]
  },
  {
   "cell_type": "code",
   "execution_count": 36,
   "metadata": {},
   "outputs": [],
   "source": [
    "# janky fix\n",
    "\n",
    "def set_public_access_clicker():\n",
    "    PATH_access = r'//*[@id=\"P803caBatchEditorForm_batch_mode_select\"]'\n",
    "    obj_status = Select(test_session._CTCoSession__wait_until(PATH_access))\n",
    "    obj_status.select_by_value(\"_replace_\")\n",
    "\n",
    "    PATH_access_menu = '//*[@name=\"P803caBatchEditorFormaccess\"]'\n",
    "    test_session._CTCoSession__wait_until(PATH_access_menu).click()\n",
    "\n",
    "    PATH_access_option = r'//*[contains(text(), \"accessible to public\") and not(contains(text(), \"not\"))]'\n",
    "    test_session._CTCoSession__wait_until(PATH_access_option).click()\n",
    "\n",
    "def set_public_access():\n",
    "    # possibly infinite loop\n",
    "    try: set_public_access_clicker()\n",
    "    except: set_public_access()"
   ]
  },
  {
   "cell_type": "code",
   "execution_count": 39,
   "metadata": {},
   "outputs": [],
   "source": [
    "def test():\n",
    "    return \"test HeLOO!\""
   ]
  },
  {
   "cell_type": "code",
   "execution_count": null,
   "metadata": {},
   "outputs": [],
   "source": []
  }
 ],
 "metadata": {
  "kernelspec": {
   "display_name": ".venv3",
   "language": "python",
   "name": "python3"
  },
  "language_info": {
   "codemirror_mode": {
    "name": "ipython",
    "version": 3
   },
   "file_extension": ".py",
   "mimetype": "text/x-python",
   "name": "python",
   "nbconvert_exporter": "python",
   "pygments_lexer": "ipython3",
   "version": "3.10.3"
  }
 },
 "nbformat": 4,
 "nbformat_minor": 2
}
