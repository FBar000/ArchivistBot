{
 "cells": [
  {
   "cell_type": "code",
   "execution_count": 1,
   "metadata": {},
   "outputs": [],
   "source": [
    "from PIL import Image\n",
    "\n",
    "def convert_tif_to_png(tif_path, png_path):\n",
    "    # Open the TIFF file\n",
    "    with Image.open(tif_path) as img:\n",
    "        # Convert the image to PNG and save it\n",
    "        img.save(png_path, 'PNG')\n",
    "\n",
    "def compress_image(png_path):\n",
    "    with Image.open(png_path) as img:\n",
    "        img.save(png_path, 'PNG', )"
   ]
  },
  {
   "cell_type": "code",
   "execution_count": 9,
   "metadata": {},
   "outputs": [],
   "source": [
    "import os\n",
    "\n",
    "OLD_PATH = r\"D:\\MHS\\Photos\\A2023.FosterSnowHelen.0.009\"\n",
    "NEW_PATH = r\"Stage/Input/\"\n",
    "\n",
    "files = os.listdir(OLD_PATH)"
   ]
  },
  {
   "cell_type": "code",
   "execution_count": 11,
   "metadata": {},
   "outputs": [],
   "source": [
    "i = 0\n",
    "for file in files:\n",
    "    new_name = os.path.splitext(file)[0] + f\"_{i}.PNG\"\n",
    "    old_path = os.path.join(OLD_PATH, file)\n",
    "    new_path = os.path.join(NEW_PATH, new_name)\n",
    "    convert_tif_to_png(old_path, new_path)\n",
    "    i+=1 "
   ]
  },
  {
   "cell_type": "code",
   "execution_count": null,
   "metadata": {},
   "outputs": [],
   "source": []
  }
 ],
 "metadata": {
  "kernelspec": {
   "display_name": "multipurpose",
   "language": "python",
   "name": "python3"
  },
  "language_info": {
   "codemirror_mode": {
    "name": "ipython",
    "version": 3
   },
   "file_extension": ".py",
   "mimetype": "text/x-python",
   "name": "python",
   "nbconvert_exporter": "python",
   "pygments_lexer": "ipython3",
   "version": "3.10.3"
  }
 },
 "nbformat": 4,
 "nbformat_minor": 2
}
