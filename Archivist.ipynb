{
 "cells": [
  {
   "cell_type": "markdown",
   "metadata": {},
   "source": [
    "## Process Image"
   ]
  },
  {
   "cell_type": "markdown",
   "metadata": {},
   "source": [
    "### Make Entries"
   ]
  },
  {
   "cell_type": "code",
   "execution_count": 12,
   "metadata": {},
   "outputs": [],
   "source": [
    "user_msg = \"\"\"\n",
    "This is a photocopy of the distribution of the estate of Judson Reuben. What do you make of it? When was it done? Where? \n",
    "\n",
    "The size is about 42 x 23. \n",
    "\"\"\""
   ]
  },
  {
   "cell_type": "code",
   "execution_count": 13,
   "metadata": {},
   "outputs": [],
   "source": [
    "from archiveGPT.archivist import *\n",
    "path = createEntryDraft(user_msg=user_msg)"
   ]
  },
  {
   "cell_type": "markdown",
   "metadata": {},
   "source": [
    "#### MANUAL STEP\n",
    "\n",
    "Go into the file just created and control quality. Give it an IDNO section."
   ]
  },
  {
   "cell_type": "markdown",
   "metadata": {},
   "source": [
    "### Save JSONS and Archive Inputs"
   ]
  },
  {
   "cell_type": "code",
   "execution_count": 14,
   "metadata": {},
   "outputs": [
    {
     "name": "stdout",
     "output_type": "stream",
     "text": [
      "Renamed: Stage\\\\Input\\WhatsApp Image 2024-01-02 at 18.25.39.jpeg -> Stage\\\\Input\\A2023,JudsonReuben,003_1.jpeg\n",
      "Renamed: Stage\\\\Input\\WhatsApp Image 2024-01-02 at 18.25.39 (1).jpeg -> Stage\\\\Input\\A2023,JudsonReuben,003_2.jpeg\n",
      "Renamed: Stage\\\\Input\\WhatsApp Image 2024-01-02 at 18.31.21 (1).jpeg -> Stage\\\\Input\\A2023,JudsonReuben,003_3.jpeg\n",
      "Renamed: Stage\\\\Input\\WhatsApp Image 2024-01-02 at 18.31.21 (2).jpeg -> Stage\\\\Input\\A2023,JudsonReuben,003_4.jpeg\n",
      "Renamed: Stage\\\\Input\\WhatsApp Image 2024-01-02 at 18.31.21 (3).jpeg -> Stage\\\\Input\\A2023,JudsonReuben,003_5.jpeg\n",
      "Renamed: Stage\\\\Input\\WhatsApp Image 2024-01-02 at 18.31.21 (4).jpeg -> Stage\\\\Input\\A2023,JudsonReuben,003_6.jpeg\n",
      "Renamed: Stage\\\\Input\\WhatsApp Image 2024-01-02 at 18.31.21 (5).jpeg -> Stage\\\\Input\\A2023,JudsonReuben,003_7.jpeg\n",
      "Renamed: Stage\\\\Input\\WhatsApp Image 2024-01-02 at 18.31.21.jpeg -> Stage\\\\Input\\A2023,JudsonReuben,003_8.jpeg\n",
      "Renamed: Stage\\\\Output\\0.txt -> Stage\\\\Output\\A2023,JudsonReuben,003.txt\n",
      "Created: Stage\\\\JSON_Output\\A2023,JudsonReuben,003.json\n",
      "--------------------------------------------------\n",
      "Moved: Stage\\\\Input\\A2023,JudsonReuben,003_2.jpeg -> Archive\\\\Input\\A2023,JudsonReuben,003_2.jpeg\n",
      "Moved: Stage\\\\Input\\A2023,JudsonReuben,003_3.jpeg -> Archive\\\\Input\\A2023,JudsonReuben,003_3.jpeg\n",
      "Moved: Stage\\\\Input\\A2023,JudsonReuben,003_4.jpeg -> Archive\\\\Input\\A2023,JudsonReuben,003_4.jpeg\n",
      "Moved: Stage\\\\Input\\A2023,JudsonReuben,003_5.jpeg -> Archive\\\\Input\\A2023,JudsonReuben,003_5.jpeg\n",
      "Moved: Stage\\\\Input\\A2023,JudsonReuben,003_6.jpeg -> Archive\\\\Input\\A2023,JudsonReuben,003_6.jpeg\n",
      "Moved: Stage\\\\Input\\A2023,JudsonReuben,003_7.jpeg -> Archive\\\\Input\\A2023,JudsonReuben,003_7.jpeg\n",
      "Moved: Stage\\\\Input\\A2023,JudsonReuben,003_8.jpeg -> Archive\\\\Input\\A2023,JudsonReuben,003_8.jpeg\n",
      "Moved: Stage\\\\Input\\A2023,JudsonReuben,003_1.jpeg -> Archive\\\\Input\\A2023,JudsonReuben,003_1.jpeg\n"
     ]
    }
   ],
   "source": [
    "from archiveGPT.archivist import *\n",
    "import archiveGPT.clean as clean\n",
    "\n",
    "saveEntryDraft(path)\n",
    "print(\"-\"*50)\n",
    "clean.archive_inputs()"
   ]
  },
  {
   "cell_type": "markdown",
   "metadata": {},
   "source": [
    "## Archive Outputs"
   ]
  },
  {
   "cell_type": "code",
   "execution_count": 1,
   "metadata": {},
   "outputs": [
    {
     "name": "stdout",
     "output_type": "stream",
     "text": [
      "Moved: Stage\\\\Output\\A2023,WilcoxFamily,015.txt -> Archive\\\\Output\\A2023,WilcoxFamily,015.txt\n",
      "Moved: Stage\\\\Output\\A2023,ScrantonFamily,2,009.txt -> Archive\\\\Output\\A2023,ScrantonFamily,2,009.txt\n"
     ]
    }
   ],
   "source": [
    "import archiveGPT.clean as clean\n",
    "\n",
    "clean.archive_outputs()"
   ]
  },
  {
   "cell_type": "markdown",
   "metadata": {},
   "source": [
    "## Upload to CTCo"
   ]
  },
  {
   "cell_type": "code",
   "execution_count": 17,
   "metadata": {},
   "outputs": [],
   "source": [
    "## TODO: THIS WHOLE PROCESS SHOULD EVENTUALLY BE IN AN IMPORTED FUNCTION\n",
    "\n",
    "import os\n",
    "import archiveGPT.config as acfg\n",
    "\n",
    "files = os.listdir(acfg.JSON_OUTPUT)\n",
    "paths = [os.path.join(acfg.JSON_OUTPUT, file) for file in files]"
   ]
  },
  {
   "cell_type": "code",
   "execution_count": 1,
   "metadata": {},
   "outputs": [
    {
     "ename": "ModuleNotFoundError",
     "evalue": "No module named 'selenium'",
     "output_type": "error",
     "traceback": [
      "\u001b[1;31m---------------------------------------------------------------------------\u001b[0m",
      "\u001b[1;31mModuleNotFoundError\u001b[0m                       Traceback (most recent call last)",
      "Cell \u001b[1;32mIn[1], line 1\u001b[0m\n\u001b[1;32m----> 1\u001b[0m \u001b[38;5;28;01mimport\u001b[39;00m \u001b[38;5;21;01mbots\u001b[39;00m\u001b[38;5;21;01m.\u001b[39;00m\u001b[38;5;21;01mCTCoSession\u001b[39;00m \u001b[38;5;28;01mas\u001b[39;00m \u001b[38;5;21;01mbot\u001b[39;00m \n\u001b[0;32m      2\u001b[0m \u001b[38;5;28;01mfrom\u001b[39;00m \u001b[38;5;21;01mbots\u001b[39;00m\u001b[38;5;21;01m.\u001b[39;00m\u001b[38;5;21;01mutils\u001b[39;00m \u001b[38;5;28;01mimport\u001b[39;00m DocumentObject\n\u001b[0;32m      4\u001b[0m \u001b[38;5;28;01mwith\u001b[39;00m bot\u001b[38;5;241m.\u001b[39mCTCoSession() \u001b[38;5;28;01mas\u001b[39;00m bot1:\n",
      "File \u001b[1;32ma:\\MHS\\ArchivistGPT\\bots\\CTCoSession.py:1\u001b[0m\n\u001b[1;32m----> 1\u001b[0m \u001b[38;5;28;01mfrom\u001b[39;00m \u001b[38;5;21;01mselenium\u001b[39;00m \u001b[38;5;28;01mimport\u001b[39;00m webdriver\n\u001b[0;32m      2\u001b[0m \u001b[38;5;28;01mfrom\u001b[39;00m \u001b[38;5;21;01mselenium\u001b[39;00m\u001b[38;5;21;01m.\u001b[39;00m\u001b[38;5;21;01mwebdriver\u001b[39;00m\u001b[38;5;21;01m.\u001b[39;00m\u001b[38;5;21;01mcommon\u001b[39;00m\u001b[38;5;21;01m.\u001b[39;00m\u001b[38;5;21;01mby\u001b[39;00m \u001b[38;5;28;01mimport\u001b[39;00m By\n\u001b[0;32m      3\u001b[0m \u001b[38;5;28;01mfrom\u001b[39;00m \u001b[38;5;21;01mselenium\u001b[39;00m\u001b[38;5;21;01m.\u001b[39;00m\u001b[38;5;21;01mwebdriver\u001b[39;00m\u001b[38;5;21;01m.\u001b[39;00m\u001b[38;5;21;01msupport\u001b[39;00m\u001b[38;5;21;01m.\u001b[39;00m\u001b[38;5;21;01mui\u001b[39;00m \u001b[38;5;28;01mimport\u001b[39;00m WebDriverWait\n",
      "\u001b[1;31mModuleNotFoundError\u001b[0m: No module named 'selenium'"
     ]
    }
   ],
   "source": [
    "import bots.CTCoSession as bot \n",
    "from bots.utils import DocumentObject\n",
    "\n",
    "with bot.CTCoSession() as bot1:\n",
    "    for path in paths:\n",
    "        document = DocumentObject(path).getDoc()\n",
    "        bot1.create_object(document)"
   ]
  },
  {
   "cell_type": "markdown",
   "metadata": {},
   "source": [
    "## Archive JSONS"
   ]
  },
  {
   "cell_type": "code",
   "execution_count": 2,
   "metadata": {},
   "outputs": [
    {
     "name": "stdout",
     "output_type": "stream",
     "text": [
      "Moved: Stage\\\\JSON_Output\\A2023,WilcoxFamily,015.json -> Archive\\\\JSON\\A2023,WilcoxFamily,015.json\n",
      "Moved: Stage\\\\JSON_Output\\A2023,ScrantonFamily,2,009.json -> Archive\\\\JSON\\A2023,ScrantonFamily,2,009.json\n"
     ]
    }
   ],
   "source": [
    "import archiveGPT.clean as clean\n",
    "\n",
    "clean.archive_jsons()"
   ]
  }
 ],
 "metadata": {
  "kernelspec": {
   "display_name": "ArchivistGPT",
   "language": "python",
   "name": "archivistgpt"
  },
  "language_info": {
   "codemirror_mode": {
    "name": "ipython",
    "version": 3
   },
   "file_extension": ".py",
   "mimetype": "text/x-python",
   "name": "python",
   "nbconvert_exporter": "python",
   "pygments_lexer": "ipython3",
   "version": "3.10.6"
  }
 },
 "nbformat": 4,
 "nbformat_minor": 2
}
