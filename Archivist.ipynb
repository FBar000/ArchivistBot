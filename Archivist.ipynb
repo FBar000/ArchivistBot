{
 "cells": [
  {
   "cell_type": "markdown",
   "metadata": {},
   "source": [
    "## Process Image"
   ]
  },
  {
   "cell_type": "markdown",
   "metadata": {},
   "source": [
    "### Make Entries"
   ]
  },
  {
   "cell_type": "code",
   "execution_count": null,
   "metadata": {},
   "outputs": [],
   "source": [
    "user_msg = \"\"\"\n",
    "This is a photocopy of the distribution of the estate of Judson Reuben. What do you make of it? When was it done? Where? \n",
    "\n",
    "The size is about 42 x 23. \n",
    "\"\"\""
   ]
  },
  {
   "cell_type": "code",
   "execution_count": null,
   "metadata": {},
   "outputs": [],
   "source": [
    "from archiveGPT.archivist import *\n",
    "path = createEntryDraft(user_msg=user_msg)"
   ]
  },
  {
   "cell_type": "markdown",
   "metadata": {},
   "source": [
    "#### MANUAL STEP\n",
    "\n",
    "Go into the file just created and control quality. Give it an IDNO section."
   ]
  },
  {
   "cell_type": "markdown",
   "metadata": {},
   "source": [
    "### Cleanup: Create JSONS, Archive Inputs & Outputs"
   ]
  },
  {
   "cell_type": "code",
   "execution_count": null,
   "metadata": {},
   "outputs": [],
   "source": [
    "from archiveGPT.archivist import *\n",
    "import archiveGPT.clean as clean\n",
    "\n",
    "saveEntryDraft(path)\n",
    "print(\"-\"*50)\n",
    "clean.archive_inputs()\n",
    "clean.archive_outputs()"
   ]
  },
  {
   "cell_type": "markdown",
   "metadata": {},
   "source": [
    "## Upload to CTCo"
   ]
  },
  {
   "cell_type": "code",
   "execution_count": null,
   "metadata": {},
   "outputs": [],
   "source": [
    "## TODO: THIS WHOLE PROCESS SHOULD EVENTUALLY BE IN AN IMPORTED FUNCTION\n",
    "\n",
    "import os\n",
    "import archiveGPT.config as acfg\n",
    "\n",
    "files = os.listdir(acfg.JSON_OUTPUT)\n",
    "paths = [os.path.join(acfg.JSON_OUTPUT, file) for file in files]"
   ]
  },
  {
   "cell_type": "code",
   "execution_count": null,
   "metadata": {},
   "outputs": [],
   "source": [
    "import bots.CTCoSession as bot \n",
    "from bots.utils import DocumentObject\n",
    "\n",
    "with bot.CTCoSession() as bot1:\n",
    "    for path in paths:\n",
    "        document = DocumentObject(path).getDoc()\n",
    "        bot1.create_object(document)"
   ]
  },
  {
   "cell_type": "markdown",
   "metadata": {},
   "source": [
    "## Archive JSONS"
   ]
  },
  {
   "cell_type": "code",
   "execution_count": null,
   "metadata": {},
   "outputs": [],
   "source": [
    "import archiveGPT.clean as clean\n",
    "\n",
    "clean.archive_jsons()"
   ]
  }
 ],
 "metadata": {
  "kernelspec": {
   "display_name": ".venv",
   "language": "python",
   "name": "python3"
  },
  "language_info": {
   "codemirror_mode": {
    "name": "ipython",
    "version": 3
   },
   "file_extension": ".py",
   "mimetype": "text/x-python",
   "name": "python",
   "nbconvert_exporter": "python",
   "pygments_lexer": "ipython3",
   "version": "3.10.6"
  }
 },
 "nbformat": 4,
 "nbformat_minor": 2
}
